{
 "cells": [
  {
   "cell_type": "code",
   "execution_count": 38,
   "metadata": {},
   "outputs": [],
   "source": [
    "import torch"
   ]
  },
  {
   "cell_type": "code",
   "execution_count": 39,
   "metadata": {},
   "outputs": [],
   "source": [
    "with open('divina_commedia.txt', 'r', encoding = 'utf-8') as f:\n",
    "    text = f.read()\n"
   ]
  },
  {
   "cell_type": "code",
   "execution_count": 40,
   "metadata": {},
   "outputs": [
    {
     "name": "stdout",
     "output_type": "stream",
     "text": [
      "LA DIVINA COMMEDIA\n",
      "di Dante Alighieri\n",
      "INFERNO\n",
      "\n",
      "\n",
      "\n",
      "Inferno: Canto I\n",
      "\n",
      "  Nel mezzo del cammin di nostra vita\n",
      "mi ritrovai per una selva oscura\n",
      "ché la diritta via era smarrita.\n",
      "  Ahi quanto a dir qual era è\n"
     ]
    }
   ],
   "source": [
    "print(text[:200])"
   ]
  },
  {
   "cell_type": "code",
   "execution_count": 41,
   "metadata": {},
   "outputs": [
    {
     "data": {
      "text/plain": [
       "537093"
      ]
     },
     "execution_count": 41,
     "metadata": {},
     "output_type": "execute_result"
    }
   ],
   "source": [
    "len(text)"
   ]
  },
  {
   "cell_type": "code",
   "execution_count": 42,
   "metadata": {},
   "outputs": [
    {
     "name": "stdout",
     "output_type": "stream",
     "text": [
      "68\n",
      "\n",
      " !\"'(),-.:;?ABCDEFGHILMNOPQRSTUVXZabcdefghijlmnopqrstuvxyz~àèéìïòóù\n"
     ]
    }
   ],
   "source": [
    "chars = sorted(list(set(text)))\n",
    "print(len(chars))\n",
    "print(\"\".join(chars))"
   ]
  },
  {
   "cell_type": "code",
   "execution_count": 43,
   "metadata": {},
   "outputs": [],
   "source": [
    "char_to_int = { ch: i for i,ch in enumerate(chars)}\n",
    "int_to_char = { i: ch for i,ch in enumerate(chars)}\n",
    "encode = lambda s: [char_to_int[c] for c in s] #encoder function\n",
    "decode = lambda l: \"\".join(int_to_char[i] for i in l) #decoder function\n",
    "\n",
    "#not byte pair encoding, for simplicity"
   ]
  },
  {
   "cell_type": "code",
   "execution_count": 44,
   "metadata": {},
   "outputs": [
    {
     "data": {
      "text/plain": [
       "'cianoxxj'"
      ]
     },
     "execution_count": 44,
     "metadata": {},
     "output_type": "execute_result"
    }
   ],
   "source": [
    "decode(encode(\"cianoxxj\"))\n"
   ]
  },
  {
   "cell_type": "code",
   "execution_count": 45,
   "metadata": {},
   "outputs": [
    {
     "data": {
      "text/plain": [
       "[37, 43, 35, 48, 1, 46, 48, 47, 38, 48]"
      ]
     },
     "execution_count": 45,
     "metadata": {},
     "output_type": "execute_result"
    }
   ],
   "source": [
    "encode(\"ciao mondo\")"
   ]
  },
  {
   "cell_type": "code",
   "execution_count": 46,
   "metadata": {},
   "outputs": [],
   "source": [
    "data = torch.tensor(encode(text))"
   ]
  },
  {
   "cell_type": "code",
   "execution_count": 47,
   "metadata": {},
   "outputs": [],
   "source": [
    "n = int(0.9 * len(data))\n",
    "train_data= data[:n]\n",
    "val_data= data[n:]\n"
   ]
  },
  {
   "cell_type": "code",
   "execution_count": 52,
   "metadata": {},
   "outputs": [
    {
     "data": {
      "text/plain": [
       "tensor([22, 13,  1, 16, 21, 32, 21, 24, 13,  1, 15])"
      ]
     },
     "execution_count": 52,
     "metadata": {},
     "output_type": "execute_result"
    }
   ],
   "source": [
    "batch_size = 4\n",
    "block_size= 10\n",
    "\n",
    "train_data[:block_size+1]"
   ]
  },
  {
   "cell_type": "code",
   "execution_count": 53,
   "metadata": {},
   "outputs": [
    {
     "name": "stdout",
     "output_type": "stream",
     "text": [
      "inputs:\n",
      "torch.Size([4, 10])\n",
      "tensor([[ 7,  0, 38, 39, 45,  1, 46, 43, 48,  1],\n",
      "        [39,  1, 43, 47,  1, 37, 48, 52, 53, 35],\n",
      "        [50, 54, 35, 45,  1, 52, 39, 41, 54, 39],\n",
      "        [46, 48, 45, 53, 39,  1, 55, 48, 45, 53]])\n",
      "targets:\n",
      "torch.Size([4, 10])\n",
      "tensor([[ 0, 38, 39, 45,  1, 46, 43, 48,  1, 37],\n",
      "        [ 1, 43, 47,  1, 37, 48, 52, 53, 35,  1],\n",
      "        [54, 35, 45,  1, 52, 39, 41, 54, 39,  1],\n",
      "        [48, 45, 53, 39,  1, 55, 48, 45, 53, 39]])\n",
      "----\n",
      "when input is [7] the target: 0\n",
      "when input is [7, 0] the target: 38\n",
      "when input is [7, 0, 38] the target: 39\n",
      "when input is [7, 0, 38, 39] the target: 45\n",
      "when input is [7, 0, 38, 39, 45] the target: 1\n",
      "when input is [7, 0, 38, 39, 45, 1] the target: 46\n",
      "when input is [7, 0, 38, 39, 45, 1, 46] the target: 43\n",
      "when input is [7, 0, 38, 39, 45, 1, 46, 43] the target: 48\n",
      "when input is [7, 0, 38, 39, 45, 1, 46, 43, 48] the target: 1\n",
      "when input is [7, 0, 38, 39, 45, 1, 46, 43, 48, 1] the target: 37\n",
      "when input is [39] the target: 1\n",
      "when input is [39, 1] the target: 43\n",
      "when input is [39, 1, 43] the target: 47\n",
      "when input is [39, 1, 43, 47] the target: 1\n",
      "when input is [39, 1, 43, 47, 1] the target: 37\n",
      "when input is [39, 1, 43, 47, 1, 37] the target: 48\n",
      "when input is [39, 1, 43, 47, 1, 37, 48] the target: 52\n",
      "when input is [39, 1, 43, 47, 1, 37, 48, 52] the target: 53\n",
      "when input is [39, 1, 43, 47, 1, 37, 48, 52, 53] the target: 35\n",
      "when input is [39, 1, 43, 47, 1, 37, 48, 52, 53, 35] the target: 1\n",
      "when input is [50] the target: 54\n",
      "when input is [50, 54] the target: 35\n",
      "when input is [50, 54, 35] the target: 45\n",
      "when input is [50, 54, 35, 45] the target: 1\n",
      "when input is [50, 54, 35, 45, 1] the target: 52\n",
      "when input is [50, 54, 35, 45, 1, 52] the target: 39\n",
      "when input is [50, 54, 35, 45, 1, 52, 39] the target: 41\n",
      "when input is [50, 54, 35, 45, 1, 52, 39, 41] the target: 54\n",
      "when input is [50, 54, 35, 45, 1, 52, 39, 41, 54] the target: 39\n",
      "when input is [50, 54, 35, 45, 1, 52, 39, 41, 54, 39] the target: 1\n",
      "when input is [46] the target: 48\n",
      "when input is [46, 48] the target: 45\n",
      "when input is [46, 48, 45] the target: 53\n",
      "when input is [46, 48, 45, 53] the target: 39\n",
      "when input is [46, 48, 45, 53, 39] the target: 1\n",
      "when input is [46, 48, 45, 53, 39, 1] the target: 55\n",
      "when input is [46, 48, 45, 53, 39, 1, 55] the target: 48\n",
      "when input is [46, 48, 45, 53, 39, 1, 55, 48] the target: 45\n",
      "when input is [46, 48, 45, 53, 39, 1, 55, 48, 45] the target: 53\n",
      "when input is [46, 48, 45, 53, 39, 1, 55, 48, 45, 53] the target: 39\n"
     ]
    }
   ],
   "source": [
    "def get_batch(split):\n",
    "    # generate a small batch of data of inputs x and targets y\n",
    "    data = train_data if split == 'train' else val_data\n",
    "    ix = torch.randint(len(data) - block_size, (batch_size,))\n",
    "    x = torch.stack([data[i:i+block_size] for i in ix])\n",
    "    y = torch.stack([data[i+1:i+block_size+1] for i in ix])\n",
    "    return x, y\n",
    "\n",
    "xb, yb = get_batch('train')\n",
    "print('inputs:')\n",
    "print(xb.shape)\n",
    "print(xb)\n",
    "print('targets:')\n",
    "print(yb.shape)\n",
    "print(yb)\n",
    "\n",
    "print('----')\n",
    "\n",
    "for b in range(batch_size): # batch dimension\n",
    "    for t in range(block_size): # time dimension\n",
    "        context = xb[b, :t+1]\n",
    "        target = yb[b,t]\n",
    "        print(f\"when input is {context.tolist()} the target: {target}\")"
   ]
  },
  {
   "cell_type": "code",
   "execution_count": null,
   "metadata": {},
   "outputs": [],
   "source": []
  }
 ],
 "metadata": {
  "kernelspec": {
   "display_name": "base",
   "language": "python",
   "name": "python3"
  },
  "language_info": {
   "codemirror_mode": {
    "name": "ipython",
    "version": 3
   },
   "file_extension": ".py",
   "mimetype": "text/x-python",
   "name": "python",
   "nbconvert_exporter": "python",
   "pygments_lexer": "ipython3",
   "version": "3.12.8"
  }
 },
 "nbformat": 4,
 "nbformat_minor": 2
}
